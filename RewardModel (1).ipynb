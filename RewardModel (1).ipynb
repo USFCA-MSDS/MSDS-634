{
  "nbformat": 4,
  "nbformat_minor": 0,
  "metadata": {
    "colab": {
      "provenance": []
    },
    "kernelspec": {
      "name": "python3",
      "display_name": "Python 3"
    },
    "language_info": {
      "name": "python"
    }
  },
  "cells": [
    {
      "cell_type": "markdown",
      "source": [
        "# Reward Model with Pairwise Preference Training\n",
        "\n",
        "## Introduction\n",
        "\n",
        "In Reinforcement Learning from Human Feedback (RLHF), a reward model is trained to predict human preferences given prompt-response pairs. The reward model assigns higher scores to preferred responses and lower scores to less-preferred responses. Training involves minimizing a pairwise loss function, ensuring the model correctly ranks preferred responses higher than others.\n",
        "\n",
        "### Pairwise Preference Setup\n",
        "\n",
        "Given:\n",
        "- A prompt $x$\n",
        "- A preferred (good) response $y_{good}$\n",
        "- A less preferred (bad) response $y_{bad}$\n",
        "\n",
        "We train a reward model $r_\\theta$ parameterized by $\\theta$, to assign scores such that:\n",
        "\n",
        "$$\n",
        "r_\\theta(x, y_{good}) > r_\\theta(x, y_{bad})\n",
        "$$\n",
        "\n",
        "### Pairwise Loss Function\n",
        "\n",
        "The loss function used for training is:\n",
        "\n",
        "$$\n",
        "\\text{Loss} = -\\log(\\sigma(r_\\theta(x, y_{good}) - r_\\theta(x, y_{bad})))\n",
        "$$\n",
        "\n",
        "where $\\sigma(z)$ is the sigmoid function defined as:\n",
        "\n",
        "$$\n",
        "\\sigma(z) = \\frac{1}{1 + e^{-z}}\n",
        "$$\n",
        "\n",
        "The intuition is:\n",
        "- If $r_\\theta(x, y_{good})$ significantly exceeds $r_\\theta(x, y_{bad})$, the loss is small.\n",
        "- Otherwise, the loss is large, encouraging the model to adjust parameters accordingly.\n",
        "\n",
        "## PyTorch Implementation\n",
        "\n",
        "Below is a self-contained and easy-to-follow PyTorch implementation of this reward model training approach."
      ],
      "metadata": {
        "id": "Ctz9LIcPhgbR"
      }
    },
    {
      "cell_type": "code",
      "source": [],
      "metadata": {
        "id": "qNx4HvKRhfCM"
      },
      "execution_count": null,
      "outputs": []
    },
    {
      "cell_type": "code",
      "execution_count": null,
      "metadata": {
        "id": "DdqTWzCLg8fH"
      },
      "outputs": [],
      "source": [
        "import torch\n",
        "import torch.nn as nn\n",
        "import torch.nn.functional as F\n",
        "from transformers import AutoModel, AutoTokenizer\n",
        "\n",
        "\n",
        "class RewardModel(nn.Module):\n",
        "    \"\"\"\n",
        "    A simple transformer-based reward model for pairwise preference training.\n",
        "    \"\"\"\n",
        "\n",
        "    def __init__(self, model_name=\"distilbert-base-uncased\"):\n",
        "        super().__init__()\n",
        "        self.transformer = AutoModel.from_pretrained(model_name)\n",
        "        self.reward_head = nn.Linear(self.transformer.config.hidden_size, 1)\n",
        "\n",
        "    def forward(self, input_ids, attention_mask):\n",
        "        transformer_output = self.transformer(input_ids=input_ids,\n",
        "                                              attention_mask=attention_mask)\n",
        "        pooled_output = transformer_output.last_hidden_state[:, 0]  # [CLS] token\n",
        "        reward = self.reward_head(pooled_output)\n",
        "        return reward.squeeze(-1)\n",
        "\n",
        "\n",
        "def compute_pairwise_loss(model, tokenizer, prompt, good_response, bad_response, device):\n",
        "    \"\"\"\n",
        "    Compute pairwise ranking loss given a prompt, good and bad responses.\n",
        "    \"\"\"\n",
        "\n",
        "    # Tokenize inputs\n",
        "    good_input = tokenizer(prompt, good_response, return_tensors='pt', truncation=True, padding=True).to(device)\n",
        "    bad_input = tokenizer(prompt, bad_response, return_tensors='pt', truncation=True, padding=True).to(device)\n",
        "\n",
        "    # Compute scores\n",
        "    good_score = model(**good_input)\n",
        "    bad_score = model(**bad_input)\n",
        "\n",
        "    # Pairwise loss\n",
        "    loss = -F.logsigmoid(good_score - bad_score).mean()\n",
        "\n",
        "    return loss, good_score.item(), bad_score.item()\n",
        "\n",
        "\n",
        "# Example usage:\n",
        "if __name__ == \"__main__\":\n",
        "    device = torch.device(\"cuda\" if torch.cuda.is_available() else \"cpu\")\n",
        "\n",
        "    tokenizer = AutoTokenizer.from_pretrained(\"distilbert-base-uncased\")\n",
        "    reward_model = RewardModel().to(device)\n",
        "\n",
        "    optimizer = torch.optim.Adam(reward_model.parameters(), lr=1e-5)\n",
        "\n",
        "    # Example data\n",
        "    prompt = \"What's the capital of France?\"\n",
        "    good_response = \"The capital of France is Paris.\"\n",
        "    bad_response = \"The capital of France is London.\"\n",
        "\n",
        "    reward_model.train()\n",
        "    epochs = 5\n",
        "\n",
        "    for epoch in range(epochs):\n",
        "        optimizer.zero_grad()\n",
        "\n",
        "        loss, good_score, bad_score = compute_pairwise_loss(\n",
        "            reward_model, tokenizer, prompt, good_response, bad_response, device\n",
        "        )\n",
        "\n",
        "        loss.backward()\n",
        "        optimizer.step()\n",
        "\n",
        "        print(f\"Epoch {epoch + 1}/{epochs} - Loss: {loss:.4f}, Good Score: {good_score:.4f}, Bad Score: {bad_score:.4f}\")\n"
      ]
    },
    {
      "cell_type": "code",
      "source": [],
      "metadata": {
        "id": "M3b-6qLmg-o-"
      },
      "execution_count": null,
      "outputs": []
    }
  ]
}